{
 "cells": [
  {
   "cell_type": "markdown",
   "metadata": {},
   "source": [
    "# Eploratory Data Analysis"
   ]
  },
  {
   "cell_type": "code",
   "execution_count": 18,
   "metadata": {},
   "outputs": [],
   "source": [
    "# Library Imports\n",
    "\n",
    "# Pandas for dataframes\n",
    "import pandas as pd\n",
    "\n",
    "# Import Team Class\n",
    "from Classes.team import Team\n",
    "\n",
    "# Import Team Class\n",
    "from Classes.team import Team\n",
    "\n",
    "# Pickle import for data serialization and deserialization\n",
    "import pickle\n",
    "\n",
    "# Import CSV for read/write of data files\n",
    "import csv\n",
    "\n",
    "# For use of nan\n",
    "import math"
   ]
  },
  {
   "cell_type": "markdown",
   "metadata": {},
   "source": [
    "### Import Data & Gather Keys"
   ]
  },
  {
   "cell_type": "code",
   "execution_count": 20,
   "metadata": {},
   "outputs": [
    {
     "ename": "ModuleNotFoundError",
     "evalue": "No module named 'team'",
     "output_type": "error",
     "traceback": [
      "\u001b[0;31m---------------------------------------------------------------------------\u001b[0m",
      "\u001b[0;31mModuleNotFoundError\u001b[0m                       Traceback (most recent call last)",
      "\u001b[1;32m/Users/westonmauz/Mauz/Programming/MarchMadness2023/02-exploratoryDataAnalysis.ipynb Cell 4\u001b[0m in \u001b[0;36m<cell line: 13>\u001b[0;34m()\u001b[0m\n\u001b[1;32m     <a href='vscode-notebook-cell:/Users/westonmauz/Mauz/Programming/MarchMadness2023/02-exploratoryDataAnalysis.ipynb#W3sZmlsZQ%3D%3D?line=10'>11</a>\u001b[0m \u001b[39m# Read Pickle File as dictionary\u001b[39;00m\n\u001b[1;32m     <a href='vscode-notebook-cell:/Users/westonmauz/Mauz/Programming/MarchMadness2023/02-exploratoryDataAnalysis.ipynb#W3sZmlsZQ%3D%3D?line=11'>12</a>\u001b[0m file_to_read \u001b[39m=\u001b[39m \u001b[39mopen\u001b[39m(\u001b[39m\"\u001b[39m\u001b[39mData/teams_dictionary.pkl\u001b[39m\u001b[39m\"\u001b[39m, \u001b[39m\"\u001b[39m\u001b[39mrb\u001b[39m\u001b[39m\"\u001b[39m)\n\u001b[0;32m---> <a href='vscode-notebook-cell:/Users/westonmauz/Mauz/Programming/MarchMadness2023/02-exploratoryDataAnalysis.ipynb#W3sZmlsZQ%3D%3D?line=12'>13</a>\u001b[0m teams_dictionary \u001b[39m=\u001b[39m pickle\u001b[39m.\u001b[39;49mload(file_to_read)\n",
      "\u001b[0;31mModuleNotFoundError\u001b[0m: No module named 'team'"
     ]
    }
   ],
   "source": [
    "# Load in data_dictionary for parsing practice\n",
    "\n",
    "# Load in stat labels csv as dataframe (then convert to list)\n",
    "all_labels_df = pd.read_csv(\"Data/stat_labels.csv\")\n",
    "stat_labels_list = list(all_labels_df['Stat Label'])\n",
    "\n",
    "# Load in keys (team names) csv as dataframe\n",
    "teams_keys = pd.read_csv('Data/team_names.csv') \n",
    "team_keys_list = list(teams_keys['Team Name'])\n",
    "\n",
    "# Read Pickle File as dictionary\n",
    "file_to_read = open(\"Data/teams_dictionary.pkl\", \"rb\")\n",
    "teams_dictionary = pickle.load(file_to_read)"
   ]
  },
  {
   "cell_type": "markdown",
   "metadata": {},
   "source": [
    "### Import Data For Analysis"
   ]
  },
  {
   "cell_type": "code",
   "execution_count": 5,
   "metadata": {},
   "outputs": [],
   "source": [
    "target_year = '2012-13'\n",
    "year_df = pd.read_csv(f'Data/Madness/{target_year}.csv')"
   ]
  },
  {
   "cell_type": "markdown",
   "metadata": {},
   "source": [
    "## 3. Exploratory Data Analysis\n",
    "\n",
    "- Data Shape\n",
    "- Data Types\n",
    "- Target variable\n",
    "- Missing Values\n",
    "- Constant features\n",
    "- Cardinality\n",
    "- Duplicate features\n",
    "- Correlations\n",
    "- Scale\n",
    "- Distributions (skewness)\n",
    "- Outliers"
   ]
  },
  {
   "cell_type": "code",
   "execution_count": 14,
   "metadata": {},
   "outputs": [],
   "source": [
    "pd.set_option('display.max_rows', None)"
   ]
  },
  {
   "cell_type": "code",
   "execution_count": 15,
   "metadata": {},
   "outputs": [
    {
     "name": "stdout",
     "output_type": "stream",
     "text": [
      "<class 'pandas.core.frame.DataFrame'>\n",
      "RangeIndex: 68 entries, 0 to 67\n",
      "Data columns (total 96 columns):\n",
      " #   Column               Non-Null Count  Dtype  \n",
      "---  ------               --------------  -----  \n",
      " 0   Team Name            68 non-null     object \n",
      " 1   Team ID              68 non-null     int64  \n",
      " 2   Test Year            68 non-null     object \n",
      " 3   Madness Result       68 non-null     float64\n",
      " 4   g                    68 non-null     int64  \n",
      " 5   mp_per_g             68 non-null     float64\n",
      " 6   fg_per_g             68 non-null     float64\n",
      " 7   fga_per_g            68 non-null     float64\n",
      " 8   fg_pct               68 non-null     float64\n",
      " 9   fg2_per_g            68 non-null     float64\n",
      " 10  fg2a_per_g           68 non-null     float64\n",
      " 11  fg2_pct              68 non-null     float64\n",
      " 12  fg3_per_g            68 non-null     float64\n",
      " 13  fg3a_per_g           68 non-null     float64\n",
      " 14  fg3_pct              68 non-null     float64\n",
      " 15  ft_per_g             68 non-null     float64\n",
      " 16  fta_per_g            68 non-null     float64\n",
      " 17  ft_pct               68 non-null     float64\n",
      " 18  orb_per_g            68 non-null     float64\n",
      " 19  drb_per_g            68 non-null     float64\n",
      " 20  trb_per_g            68 non-null     float64\n",
      " 21  ast_per_g            68 non-null     float64\n",
      " 22  stl_per_g            68 non-null     float64\n",
      " 23  blk_per_g            68 non-null     float64\n",
      " 24  tov_per_g            68 non-null     float64\n",
      " 25  pf_per_g             68 non-null     float64\n",
      " 26  pts_per_g            68 non-null     float64\n",
      " 27  g_rank               0 non-null      float64\n",
      " 28  mp_per_g_rank        0 non-null      float64\n",
      " 29  fg_per_g_rank        68 non-null     int64  \n",
      " 30  fga_per_g_rank       68 non-null     int64  \n",
      " 31  fg_pct_rank          68 non-null     int64  \n",
      " 32  fg2_per_g_rank       68 non-null     int64  \n",
      " 33  fg2a_per_g_rank      68 non-null     int64  \n",
      " 34  fg2_pct_rank         68 non-null     int64  \n",
      " 35  fg3_per_g_rank       68 non-null     int64  \n",
      " 36  fg3a_per_g_rank      68 non-null     int64  \n",
      " 37  fg3_pct_rank         68 non-null     int64  \n",
      " 38  ft_per_g_rank        68 non-null     int64  \n",
      " 39  fta_per_g_rank       68 non-null     int64  \n",
      " 40  ft_pct_rank          68 non-null     int64  \n",
      " 41  orb_per_g_rank       68 non-null     int64  \n",
      " 42  drb_per_g_rank       68 non-null     int64  \n",
      " 43  trb_per_g_rank       68 non-null     int64  \n",
      " 44  ast_per_g_rank       68 non-null     int64  \n",
      " 45  stl_per_g_rank       68 non-null     int64  \n",
      " 46  blk_per_g_rank       68 non-null     int64  \n",
      " 47  tov_per_g_rank       68 non-null     int64  \n",
      " 48  pf_per_g_rank        68 non-null     int64  \n",
      " 49  pts_per_g_rank       68 non-null     int64  \n",
      " 50  opp_g                68 non-null     int64  \n",
      " 51  opp_mp_per_g         68 non-null     float64\n",
      " 52  opp_fg_per_g         68 non-null     float64\n",
      " 53  opp_fga_per_g        68 non-null     float64\n",
      " 54  opp_fg_pct           68 non-null     float64\n",
      " 55  opp_fg2_per_g        68 non-null     float64\n",
      " 56  opp_fg2a_per_g       68 non-null     float64\n",
      " 57  opp_fg2_pct          68 non-null     float64\n",
      " 58  opp_fg3_per_g        68 non-null     float64\n",
      " 59  opp_fg3a_per_g       68 non-null     float64\n",
      " 60  opp_fg3_pct          68 non-null     float64\n",
      " 61  opp_ft_per_g         68 non-null     float64\n",
      " 62  opp_fta_per_g        68 non-null     float64\n",
      " 63  opp_ft_pct           68 non-null     float64\n",
      " 64  opp_orb_per_g        68 non-null     float64\n",
      " 65  opp_drb_per_g        68 non-null     float64\n",
      " 66  opp_trb_per_g        68 non-null     float64\n",
      " 67  opp_ast_per_g        68 non-null     float64\n",
      " 68  opp_stl_per_g        68 non-null     float64\n",
      " 69  opp_blk_per_g        68 non-null     float64\n",
      " 70  opp_tov_per_g        68 non-null     float64\n",
      " 71  opp_pf_per_g         68 non-null     float64\n",
      " 72  opp_pts_per_g        68 non-null     float64\n",
      " 73  opp_g_rank           0 non-null      float64\n",
      " 74  opp_mp_per_g_rank    0 non-null      float64\n",
      " 75  opp_fg_per_g_rank    68 non-null     int64  \n",
      " 76  opp_fga_per_g_rank   68 non-null     int64  \n",
      " 77  opp_fg_pct_rank      68 non-null     int64  \n",
      " 78  opp_fg2_per_g_rank   68 non-null     int64  \n",
      " 79  opp_fg2a_per_g_rank  68 non-null     int64  \n",
      " 80  opp_fg2_pct_rank     68 non-null     int64  \n",
      " 81  opp_fg3_per_g_rank   68 non-null     int64  \n",
      " 82  opp_fg3a_per_g_rank  68 non-null     int64  \n",
      " 83  opp_fg3_pct_rank     68 non-null     int64  \n",
      " 84  opp_ft_per_g_rank    68 non-null     int64  \n",
      " 85  opp_fta_per_g_rank   68 non-null     int64  \n",
      " 86  opp_ft_pct_rank      68 non-null     int64  \n",
      " 87  opp_orb_per_g_rank   68 non-null     int64  \n",
      " 88  opp_drb_per_g_rank   68 non-null     int64  \n",
      " 89  opp_trb_per_g_rank   68 non-null     int64  \n",
      " 90  opp_ast_per_g_rank   68 non-null     int64  \n",
      " 91  opp_stl_per_g_rank   68 non-null     int64  \n",
      " 92  opp_blk_per_g_rank   68 non-null     int64  \n",
      " 93  opp_tov_per_g_rank   68 non-null     int64  \n",
      " 94  opp_pf_per_g_rank    68 non-null     int64  \n",
      " 95  opp_pts_per_g_rank   68 non-null     int64  \n",
      "dtypes: float64(49), int64(45), object(2)\n",
      "memory usage: 59.4 KB\n"
     ]
    }
   ],
   "source": [
    "year_df.info(memory_usage='deep')"
   ]
  },
  {
   "cell_type": "markdown",
   "metadata": {
    "id": "mDrWfZzq-Fq2"
   },
   "source": [
    "This dataset has:\n",
    "- 96 features (5 categorical and 7 numerical)\n",
    "- 68 observations\n",
    "- 3 features with missing values: ['Age'], ['Cabin'], ['Embarked']\n",
    "\n",
    "The target variable is ['Survived']"
   ]
  }
 ],
 "metadata": {
  "kernelspec": {
   "display_name": "Python 3.9.12 ('base')",
   "language": "python",
   "name": "python3"
  },
  "language_info": {
   "codemirror_mode": {
    "name": "ipython",
    "version": 3
   },
   "file_extension": ".py",
   "mimetype": "text/x-python",
   "name": "python",
   "nbconvert_exporter": "python",
   "pygments_lexer": "ipython3",
   "version": "3.9.12"
  },
  "orig_nbformat": 4,
  "vscode": {
   "interpreter": {
    "hash": "fb3b50a4389620b705790297104040000f890e55ee78a8def675b3b1272776cf"
   }
  }
 },
 "nbformat": 4,
 "nbformat_minor": 2
}
