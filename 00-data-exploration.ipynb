{
 "cells": [
  {
   "cell_type": "markdown",
   "metadata": {},
   "source": [
    "# March Madness 2023 -- Data Exploration\n",
    "\n",
    "#### Creator: Weston Mauz\n",
    "Project Start: 09/28/22"
   ]
  },
  {
   "cell_type": "markdown",
   "metadata": {},
   "source": [
    "### Project Index\n",
    "\n",
    "1. Problem Statement\n",
    "\n",
    "2. **Data Extraction**\n",
    "\n",
    "3. Exploratory Data Analysis\n",
    "\n",
    "4. Feature Engineering\n",
    "\n",
    "5. Feature Selection\n",
    "\n",
    "6. Model Selection\n",
    "\n",
    "7. Model tuning\n",
    "\n",
    "8. Model serving (if applicable)"
   ]
  },
  {
   "cell_type": "markdown",
   "metadata": {},
   "source": [
    "### File Index\n",
    "\n",
    "1. Library Imports\n",
    "\n",
    "2. Team Name Extraction\n",
    "\n",
    "3. Assign Team IDs\n",
    "\n",
    "4. Collect Team Home Web Page Links\n",
    "\n",
    "5. Collect Team Year Page Links\n",
    "\n",
    "6. Locate & Write Stat Labels"
   ]
  },
  {
   "cell_type": "markdown",
   "metadata": {},
   "source": [
    "### 1. Library Imports"
   ]
  },
  {
   "cell_type": "code",
   "execution_count": 1,
   "metadata": {},
   "outputs": [],
   "source": [
    "# Pandas for dataframes\n",
    "import pandas as pd\n",
    "\n",
    "# Request for Network interaction\n",
    "import requests\n",
    "\n",
    "# Beautiful Soup for Data extraction\n",
    "from bs4 import BeautifulSoup\n",
    "\n",
    "# Import Team Class\n",
    "from Classes.team import Team\n",
    "\n",
    "# Pickle import for data serialization and deserialization\n",
    "import pickle"
   ]
  },
  {
   "cell_type": "markdown",
   "metadata": {},
   "source": [
    "### 2. Team Name Extraction\n",
    "\n",
    "The first step will be to pull all the school names out of the website"
   ]
  },
  {
   "cell_type": "code",
   "execution_count": 2,
   "metadata": {},
   "outputs": [],
   "source": [
    "# Assign soup to webpage\n",
    "\n",
    "# Initial webpage\n",
    "base_url = \"https://www.sports-reference.com\"\n",
    "school_url = \"/cbb/schools/\"\n",
    "\n",
    "# Connect to webpage & check that response is 200\n",
    "page = requests.get(base_url + school_url)\n",
    "#page.status_code\n",
    "soup = BeautifulSoup(page.content, 'html.parser')\n",
    "\n",
    "# Extract Team Names\n",
    "name_tags = soup.select('[id=\"div_schools\"] tbody tr td a')\n",
    "team_names = [nt.get_text() for nt in name_tags]"
   ]
  },
  {
   "cell_type": "code",
   "execution_count": 3,
   "metadata": {},
   "outputs": [
    {
     "data": {
      "text/html": [
       "<div>\n",
       "<style scoped>\n",
       "    .dataframe tbody tr th:only-of-type {\n",
       "        vertical-align: middle;\n",
       "    }\n",
       "\n",
       "    .dataframe tbody tr th {\n",
       "        vertical-align: top;\n",
       "    }\n",
       "\n",
       "    .dataframe thead th {\n",
       "        text-align: right;\n",
       "    }\n",
       "</style>\n",
       "<table border=\"1\" class=\"dataframe\">\n",
       "  <thead>\n",
       "    <tr style=\"text-align: right;\">\n",
       "      <th></th>\n",
       "      <th>Team Name</th>\n",
       "    </tr>\n",
       "  </thead>\n",
       "  <tbody>\n",
       "    <tr>\n",
       "      <th>0</th>\n",
       "      <td>Abilene Christian Wildcats</td>\n",
       "    </tr>\n",
       "    <tr>\n",
       "      <th>1</th>\n",
       "      <td>Air Force Falcons</td>\n",
       "    </tr>\n",
       "    <tr>\n",
       "      <th>2</th>\n",
       "      <td>Akron Zips</td>\n",
       "    </tr>\n",
       "    <tr>\n",
       "      <th>3</th>\n",
       "      <td>Alabama A&amp;M Bulldogs</td>\n",
       "    </tr>\n",
       "    <tr>\n",
       "      <th>4</th>\n",
       "      <td>Alabama Crimson Tide</td>\n",
       "    </tr>\n",
       "    <tr>\n",
       "      <th>...</th>\n",
       "      <td>...</td>\n",
       "    </tr>\n",
       "    <tr>\n",
       "      <th>480</th>\n",
       "      <td>Wright State Raiders</td>\n",
       "    </tr>\n",
       "    <tr>\n",
       "      <th>481</th>\n",
       "      <td>Wyoming Cowboys</td>\n",
       "    </tr>\n",
       "    <tr>\n",
       "      <th>482</th>\n",
       "      <td>Xavier Musketeers</td>\n",
       "    </tr>\n",
       "    <tr>\n",
       "      <th>483</th>\n",
       "      <td>Yale Bulldogs</td>\n",
       "    </tr>\n",
       "    <tr>\n",
       "      <th>484</th>\n",
       "      <td>Youngstown State Penguins</td>\n",
       "    </tr>\n",
       "  </tbody>\n",
       "</table>\n",
       "<p>485 rows × 1 columns</p>\n",
       "</div>"
      ],
      "text/plain": [
       "                      Team Name\n",
       "0    Abilene Christian Wildcats\n",
       "1             Air Force Falcons\n",
       "2                    Akron Zips\n",
       "3          Alabama A&M Bulldogs\n",
       "4          Alabama Crimson Tide\n",
       "..                          ...\n",
       "480        Wright State Raiders\n",
       "481             Wyoming Cowboys\n",
       "482           Xavier Musketeers\n",
       "483               Yale Bulldogs\n",
       "484   Youngstown State Penguins\n",
       "\n",
       "[485 rows x 1 columns]"
      ]
     },
     "execution_count": 3,
     "metadata": {},
     "output_type": "execute_result"
    }
   ],
   "source": [
    "# Conversion of list to dataframe\n",
    "team_names_df = pd.DataFrame(team_names, columns=['Team Name'])\n",
    "team_names_df"
   ]
  },
  {
   "cell_type": "code",
   "execution_count": 4,
   "metadata": {},
   "outputs": [],
   "source": [
    "# Write keys to csv file for future use -- Team Names as Keys\n",
    "team_names_df.to_csv(\"Data/team_names.csv\", index=False)"
   ]
  },
  {
   "cell_type": "markdown",
   "metadata": {},
   "source": [
    "### 3. Assign Team IDs\n",
    "Index will be the ID"
   ]
  },
  {
   "cell_type": "code",
   "execution_count": 5,
   "metadata": {},
   "outputs": [],
   "source": [
    "# Load in keys (team names) csv as dataframe & create list\n",
    "teams_keys = pd.read_csv('Data/team_names.csv') \n",
    "team_keys_list = list(teams_keys['Team Name'])"
   ]
  },
  {
   "cell_type": "code",
   "execution_count": 6,
   "metadata": {},
   "outputs": [],
   "source": [
    "# Create team IDs\n",
    "team_ids = [str(team) for team in range(len(team_keys_list))]"
   ]
  },
  {
   "cell_type": "code",
   "execution_count": 8,
   "metadata": {},
   "outputs": [],
   "source": [
    "# Assign links to appropriate column & row of dataframe\n",
    "team_names_df['Team ID'] = team_ids"
   ]
  },
  {
   "cell_type": "markdown",
   "metadata": {},
   "source": [
    "### 4. Collect Team Page Links\n",
    "\n",
    "Using the team_names array, now the program must find the individual team web pages"
   ]
  },
  {
   "cell_type": "code",
   "execution_count": 9,
   "metadata": {},
   "outputs": [
    {
     "data": {
      "text/html": [
       "<div>\n",
       "<style scoped>\n",
       "    .dataframe tbody tr th:only-of-type {\n",
       "        vertical-align: middle;\n",
       "    }\n",
       "\n",
       "    .dataframe tbody tr th {\n",
       "        vertical-align: top;\n",
       "    }\n",
       "\n",
       "    .dataframe thead th {\n",
       "        text-align: right;\n",
       "    }\n",
       "</style>\n",
       "<table border=\"1\" class=\"dataframe\">\n",
       "  <thead>\n",
       "    <tr style=\"text-align: right;\">\n",
       "      <th></th>\n",
       "      <th>Team Name</th>\n",
       "      <th>Team ID</th>\n",
       "      <th>Team Link</th>\n",
       "    </tr>\n",
       "  </thead>\n",
       "  <tbody>\n",
       "    <tr>\n",
       "      <th>0</th>\n",
       "      <td>Abilene Christian Wildcats</td>\n",
       "      <td>0</td>\n",
       "      <td>/cbb/schools/abilene-christian/</td>\n",
       "    </tr>\n",
       "    <tr>\n",
       "      <th>1</th>\n",
       "      <td>Air Force Falcons</td>\n",
       "      <td>1</td>\n",
       "      <td>/cbb/schools/air-force/</td>\n",
       "    </tr>\n",
       "    <tr>\n",
       "      <th>2</th>\n",
       "      <td>Akron Zips</td>\n",
       "      <td>2</td>\n",
       "      <td>/cbb/schools/akron/</td>\n",
       "    </tr>\n",
       "    <tr>\n",
       "      <th>3</th>\n",
       "      <td>Alabama A&amp;M Bulldogs</td>\n",
       "      <td>3</td>\n",
       "      <td>/cbb/schools/alabama-am/</td>\n",
       "    </tr>\n",
       "    <tr>\n",
       "      <th>4</th>\n",
       "      <td>Alabama Crimson Tide</td>\n",
       "      <td>4</td>\n",
       "      <td>/cbb/schools/alabama/</td>\n",
       "    </tr>\n",
       "    <tr>\n",
       "      <th>...</th>\n",
       "      <td>...</td>\n",
       "      <td>...</td>\n",
       "      <td>...</td>\n",
       "    </tr>\n",
       "    <tr>\n",
       "      <th>480</th>\n",
       "      <td>Wright State Raiders</td>\n",
       "      <td>480</td>\n",
       "      <td>/cbb/schools/wright-state/</td>\n",
       "    </tr>\n",
       "    <tr>\n",
       "      <th>481</th>\n",
       "      <td>Wyoming Cowboys</td>\n",
       "      <td>481</td>\n",
       "      <td>/cbb/schools/wyoming/</td>\n",
       "    </tr>\n",
       "    <tr>\n",
       "      <th>482</th>\n",
       "      <td>Xavier Musketeers</td>\n",
       "      <td>482</td>\n",
       "      <td>/cbb/schools/xavier/</td>\n",
       "    </tr>\n",
       "    <tr>\n",
       "      <th>483</th>\n",
       "      <td>Yale Bulldogs</td>\n",
       "      <td>483</td>\n",
       "      <td>/cbb/schools/yale/</td>\n",
       "    </tr>\n",
       "    <tr>\n",
       "      <th>484</th>\n",
       "      <td>Youngstown State Penguins</td>\n",
       "      <td>484</td>\n",
       "      <td>/cbb/schools/youngstown-state/</td>\n",
       "    </tr>\n",
       "  </tbody>\n",
       "</table>\n",
       "<p>485 rows × 3 columns</p>\n",
       "</div>"
      ],
      "text/plain": [
       "                      Team Name Team ID                        Team Link\n",
       "0    Abilene Christian Wildcats       0  /cbb/schools/abilene-christian/\n",
       "1             Air Force Falcons       1          /cbb/schools/air-force/\n",
       "2                    Akron Zips       2              /cbb/schools/akron/\n",
       "3          Alabama A&M Bulldogs       3         /cbb/schools/alabama-am/\n",
       "4          Alabama Crimson Tide       4            /cbb/schools/alabama/\n",
       "..                          ...     ...                              ...\n",
       "480        Wright State Raiders     480       /cbb/schools/wright-state/\n",
       "481             Wyoming Cowboys     481            /cbb/schools/wyoming/\n",
       "482           Xavier Musketeers     482             /cbb/schools/xavier/\n",
       "483               Yale Bulldogs     483               /cbb/schools/yale/\n",
       "484   Youngstown State Penguins     484   /cbb/schools/youngstown-state/\n",
       "\n",
       "[485 rows x 3 columns]"
      ]
     },
     "execution_count": 9,
     "metadata": {},
     "output_type": "execute_result"
    }
   ],
   "source": [
    "# Extract team links\n",
    "team_links = [tag['href'] for tag in name_tags]\n",
    "\n",
    "# Assign links to appropriate column & row of dataframe\n",
    "team_names_df['Team Link'] = team_links\n",
    "team_names_df"
   ]
  },
  {
   "cell_type": "markdown",
   "metadata": {},
   "source": [
    "### 5. Navigate & Collect team links for each year\n",
    "\n",
    "##### Assign all collected data to Team object & create dictionary of all teams"
   ]
  },
  {
   "cell_type": "code",
   "execution_count": 10,
   "metadata": {},
   "outputs": [],
   "source": [
    "teams_dictionary = {}"
   ]
  },
  {
   "cell_type": "code",
   "execution_count": 11,
   "metadata": {},
   "outputs": [],
   "source": [
    "# Loop to gather all team main links, available stat years, and links to those stat years\n",
    "for team in range(len(team_names_df)):\n",
    "  \n",
    "  stat_year_dict = {}\n",
    "  stat_year_data = {}\n",
    "  \n",
    "  school_page = requests.get(base_url + team_names_df['Team Link'][team])\n",
    "  school_page_scrape = BeautifulSoup(school_page.content, 'html.parser')\n",
    "\n",
    "  stat_year = school_page_scrape.select('table tbody tr td[data-stat=\"season\"] a')\n",
    "\n",
    "  stat_year_labels = [year.get_text() for year in stat_year]\n",
    "\n",
    "  for year in stat_year:\n",
    "    stat_year_label = year.get_text()\n",
    "    stat_year_link = year['href']\n",
    "    stat_year_dict[stat_year_label] = stat_year_link\n",
    "\n",
    "  team_object = Team(team_names_df['Team Name'][team], team_names_df['Team ID'][team], team_names_df['Team Link'][team], stat_year_labels, stat_year_dict, stat_year_data)\n",
    "  teams_dictionary[team_names_df['Team Name'][team]] = team_object\n",
    "\n",
    "#Runtime is about 4 Minutes"
   ]
  },
  {
   "cell_type": "code",
   "execution_count": 12,
   "metadata": {},
   "outputs": [],
   "source": [
    "# Save as pickle file in order to serialize & deserialize python objects in dictionary\n",
    "\n",
    "# create a binary pickle file \n",
    "f = open(\"Data/teams_dictionary.pkl\",\"wb\")\n",
    "\n",
    "# write the python object (dict) to pickle file\n",
    "pickle.dump(teams_dictionary,f)\n",
    "\n",
    "# close file\n",
    "f.close()"
   ]
  },
  {
   "cell_type": "markdown",
   "metadata": {},
   "source": [
    "### 6. Locate & Write all Stat Labels to CSV"
   ]
  },
  {
   "cell_type": "code",
   "execution_count": 13,
   "metadata": {},
   "outputs": [],
   "source": [
    "# Read Pickle File as dictionary\n",
    "\n",
    "file_to_read = open(\"Data/teams_dictionary.pkl\", \"rb\")\n",
    "\n",
    "# Final Product dictionary load\n",
    "teams_dictionary = pickle.load(file_to_read)\n",
    "\n",
    "# Load in keys (team names) csv as dataframe\n",
    "teams_keys = pd.read_csv('Data/team_names.csv')"
   ]
  },
  {
   "cell_type": "code",
   "execution_count": 50,
   "metadata": {},
   "outputs": [],
   "source": [
    "# Initial webpage evaluation\n",
    "base_url = \"https://www.sports-reference.com\"\n",
    "test_team = team_names_df['Team Name'][350]\n",
    "year_keys = teams_dictionary[test_team].stat_years\n",
    "test_year_key = teams_dictionary[test_team].stat_link_dict[year_keys[0]]\n",
    "test_year_key\n",
    "\n",
    "\n",
    "url = base_url + test_year_key\n",
    "\n",
    "# Connect to webpage & check that response is 200\n",
    "page = requests.get(url)\n",
    "page.status_code\n",
    "url\n",
    "\n",
    "year_page = BeautifulSoup(page.content, 'html.parser')"
   ]
  },
  {
   "cell_type": "code",
   "execution_count": 51,
   "metadata": {},
   "outputs": [],
   "source": [
    "per_game_table = year_page.select('[id=\"schools_per_game\"] tbody tr td')\n",
    "\n",
    "# Divide table to grab the four rows of data\n",
    "\n",
    "per_game_table_team = per_game_table[0:23]\n",
    "per_game_table_team_rank = per_game_table[23:46]\n",
    "per_game_table_opp = per_game_table[46:69]\n",
    "per_game_table_opp_rank = per_game_table[69:92]"
   ]
  },
  {
   "cell_type": "code",
   "execution_count": 52,
   "metadata": {},
   "outputs": [],
   "source": [
    "# Extract stat labels for individual rows & modify their title\n",
    "\n",
    "per_game_labels_team = [label['data-stat'] for label in per_game_table_team]\n",
    "per_game_labels_team_rank = [label['data-stat'] for label in per_game_table_team_rank]\n",
    "per_game_labels_opp = [label['data-stat'] for label in per_game_table_opp]\n",
    "per_game_labels_opp_rank = [label['data-stat'] for label in per_game_table_opp_rank]\n",
    "\n",
    "for s in range(len(per_game_labels_team_rank)):\n",
    "    per_game_labels_team_rank[s] = per_game_labels_team_rank[s] + '_rank'\n",
    "\n",
    "for s in range(2):\n",
    "    per_game_labels_opp[s] = 'opp_' + per_game_labels_opp[s]\n",
    "\n",
    "for s in range(2):\n",
    "    per_game_labels_opp_rank[s] = 'opp_' + per_game_labels_opp_rank[s]\n",
    "\n",
    "for s in range(len(per_game_labels_opp_rank)):\n",
    "    per_game_labels_opp_rank[s] = per_game_labels_opp_rank[s] + '_rank'"
   ]
  },
  {
   "cell_type": "code",
   "execution_count": 53,
   "metadata": {},
   "outputs": [],
   "source": [
    "# Combine all labels and export to csv\n",
    "\n",
    "all_labels = per_game_labels_team + per_game_labels_team_rank + per_game_labels_opp + per_game_labels_opp_rank\n",
    "len(all_labels)\n",
    "\n",
    "all_labels_df = pd.DataFrame(all_labels, columns= ['Stat Label'])\n",
    "all_labels_df['Stat Label'].nunique()\n",
    "\n",
    "all_labels_df.to_csv(\"Data/stat_labels.csv\")"
   ]
  }
 ],
 "metadata": {
  "kernelspec": {
   "display_name": "Python 3.9.12 ('base')",
   "language": "python",
   "name": "python3"
  },
  "language_info": {
   "codemirror_mode": {
    "name": "ipython",
    "version": 3
   },
   "file_extension": ".py",
   "mimetype": "text/x-python",
   "name": "python",
   "nbconvert_exporter": "python",
   "pygments_lexer": "ipython3",
   "version": "3.9.12"
  },
  "orig_nbformat": 4,
  "vscode": {
   "interpreter": {
    "hash": "fb3b50a4389620b705790297104040000f890e55ee78a8def675b3b1272776cf"
   }
  }
 },
 "nbformat": 4,
 "nbformat_minor": 2
}
