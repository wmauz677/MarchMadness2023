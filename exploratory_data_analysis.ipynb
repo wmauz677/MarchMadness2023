{
 "cells": [
  {
   "cell_type": "markdown",
   "metadata": {},
   "source": [
    "# Eploratory Data Analysis"
   ]
  },
  {
   "cell_type": "code",
   "execution_count": 131,
   "metadata": {},
   "outputs": [],
   "source": [
    "# Library Imports\n",
    "\n",
    "# Pandas for dataframes\n",
    "import pandas as pd\n",
    "\n",
    "# Numby for arrays\n",
    "import numpy as np\n",
    "\n",
    "# Request for Network interaction\n",
    "import requests\n",
    "\n",
    "# Beautiful Soup for Data extraction\n",
    "from bs4 import BeautifulSoup\n",
    "\n",
    "# urlParse to join URLs for web navigation\n",
    "from urllib.parse import urljoin\n",
    "\n",
    "# Import Team Class\n",
    "from Classes.team import Team\n",
    "\n",
    "# Writing and reading files from OS Path\n",
    "import os\n",
    "\n",
    "# Pickle import for data serialization and deserialization\n",
    "import pickle\n",
    "\n",
    "# Import CSV for read/write of data files\n",
    "import csv\n",
    "\n",
    "# For use of nan\n",
    "import math"
   ]
  },
  {
   "cell_type": "markdown",
   "metadata": {},
   "source": [
    "### Import Data & Establish Constants"
   ]
  },
  {
   "cell_type": "code",
   "execution_count": 137,
   "metadata": {},
   "outputs": [],
   "source": [
    "# Load in data_dictionary for parsing practice\n",
    "\n",
    "# Load in stat labels csv as dataframe (then convert to list)\n",
    "all_labels_df = pd.read_csv(\"Data/stat_labels.csv\")\n",
    "stat_labels_list = list(all_labels_df['Stat Label'])\n",
    "\n",
    "# Load in keys (team names) csv as dataframe\n",
    "teams_keys = pd.read_csv('Data/team_names.csv') \n",
    "team_keys_list = list(teams_keys['Team Name'])\n",
    "\n",
    "# Read Pickle File as dictionary\n",
    "file_to_read = open(\"Data/teams_dictionary.pkl\", \"rb\")\n",
    "teams_dictionary = pickle.load(file_to_read)"
   ]
  },
  {
   "cell_type": "markdown",
   "metadata": {},
   "source": [
    "### Define Functions"
   ]
  }
 ],
 "metadata": {
  "kernelspec": {
   "display_name": "Python 3.9.12 ('base')",
   "language": "python",
   "name": "python3"
  },
  "language_info": {
   "codemirror_mode": {
    "name": "ipython",
    "version": 3
   },
   "file_extension": ".py",
   "mimetype": "text/x-python",
   "name": "python",
   "nbconvert_exporter": "python",
   "pygments_lexer": "ipython3",
   "version": "3.9.12"
  },
  "orig_nbformat": 4,
  "vscode": {
   "interpreter": {
    "hash": "fb3b50a4389620b705790297104040000f890e55ee78a8def675b3b1272776cf"
   }
  }
 },
 "nbformat": 4,
 "nbformat_minor": 2
}
